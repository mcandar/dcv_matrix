{
 "cells": [
  {
   "cell_type": "code",
   "execution_count": 1,
   "metadata": {},
   "outputs": [],
   "source": [
    "import numpy as np\n",
    "import pandas as pd\n",
    "from pickle import dump, load"
   ]
  },
  {
   "cell_type": "code",
   "execution_count": 2,
   "metadata": {},
   "outputs": [],
   "source": [
    "sparse = np.zeros((10000,4000),dtype=int)"
   ]
  },
  {
   "cell_type": "code",
   "execution_count": 3,
   "metadata": {},
   "outputs": [],
   "source": [
    "n = 1000000\n",
    "idx = (np.sort(np.random.randint(0,sparse.shape[0],n)),\n",
    "       np.sort(np.random.randint(0,sparse.shape[1],n)))"
   ]
  },
  {
   "cell_type": "code",
   "execution_count": 4,
   "metadata": {},
   "outputs": [],
   "source": [
    "sparse[idx] = np.random.randint(1,6,n)"
   ]
  },
  {
   "cell_type": "code",
   "execution_count": 5,
   "metadata": {},
   "outputs": [
    {
     "data": {
      "text/plain": [
       "array([[2, 0, 0, ..., 0, 0, 0],\n",
       "       [5, 0, 0, ..., 0, 0, 0],\n",
       "       [3, 4, 0, ..., 0, 0, 0],\n",
       "       ...,\n",
       "       [0, 0, 0, ..., 0, 5, 1],\n",
       "       [0, 0, 0, ..., 0, 0, 3],\n",
       "       [0, 0, 0, ..., 0, 0, 5]])"
      ]
     },
     "execution_count": 5,
     "metadata": {},
     "output_type": "execute_result"
    }
   ],
   "source": [
    "sparse"
   ]
  },
  {
   "cell_type": "code",
   "execution_count": 6,
   "metadata": {},
   "outputs": [
    {
     "data": {
      "text/plain": [
       "41661"
      ]
     },
     "execution_count": 6,
     "metadata": {},
     "output_type": "execute_result"
    }
   ],
   "source": [
    "np.sum(sparse)"
   ]
  },
  {
   "cell_type": "code",
   "execution_count": 7,
   "metadata": {},
   "outputs": [],
   "source": [
    "class DCV:\n",
    "    \"\"\"\n",
    "    Dict of Common Values is a sparse matrix representation that is \n",
    "    useful for integer valued matrices with relatively small number\n",
    "    of uniques entries, e.g. user-score matrices.\n",
    "    \n",
    "    Attributes\n",
    "    ----------\n",
    "    sparse : dict\n",
    "        Sparse representation of dense form that is created by\n",
    "        accumulating common values in ijv representation.\n",
    "    shape : tuple\n",
    "        Number of rows and columns of dense matrix.\n",
    "    dtype : data-type\n",
    "        Data type of the dense matrix.\n",
    "    \"\"\"\n",
    "    def __init__(self):\n",
    "        self.__sparse = None\n",
    "        self.__shape = None\n",
    "        self.__dtype = None\n",
    "    \n",
    "    @property\n",
    "    def sparse(self):\n",
    "        return self.__sparse\n",
    "    \n",
    "    @property\n",
    "    def shape(self):\n",
    "        return self.__shape\n",
    "    \n",
    "    @property\n",
    "    def dtype(self):\n",
    "        return self.__dtype\n",
    "    \n",
    "    def to_sparse(self,x):\n",
    "        self.__shape = x.shape\n",
    "        self.__dtype = x.dtype\n",
    "        \n",
    "        nnz = np.nonzero(x)\n",
    "        index_not = pd.DataFrame(np.c_[np.array(list(zip(*nnz))),sparse[nnz]],columns=['r','c','v'])\n",
    "        dict_not = index_not.groupby('v').agg(list)\n",
    "        \n",
    "        self.__sparse = {}\n",
    "        for i,row in dict_not.iterrows():\n",
    "            self.__sparse[i] = pd.DataFrame(np.c_[row['r'],row['c']],columns=['r','c']).groupby('c').agg({'r':list}).to_dict()['r']\n",
    "            \n",
    "        return self\n",
    "    \n",
    "    def to_dense(self):\n",
    "        output = np.zeros((self.__shape[0],self.__shape[1]),dtype = self.__dtype)\n",
    "        for val,loc in self.__sparse.items():\n",
    "            for col,rows in loc.items():\n",
    "                for row in rows:\n",
    "                    output[row,col] = val\n",
    "                    \n",
    "        return output\n",
    "    \n",
    "    def save_sparse(self,filename):\n",
    "        if self.__sparse is None:\n",
    "            raise AttributeError('''Use either `to_sparse` to create sparse representation \n",
    "                                 or `load_sparse` to load existing before saving.''')\n",
    "        \n",
    "        with open(filename, 'wb') as f:\n",
    "            dump({'shape':self.__shape,'dtype':self.__dtype,'sparse':self.__sparse}, f)\n",
    "            \n",
    "    def load_sparse(self,filename):\n",
    "        with open(filename, 'rb') as f:\n",
    "            tmp = load(f)\n",
    "        \n",
    "        self.__shape = tmp['shape']\n",
    "        self.__dtype = tmp['dtype']\n",
    "        self.__sparse = tmp['sparse']\n",
    "        \n",
    "        return self"
   ]
  },
  {
   "cell_type": "code",
   "execution_count": 8,
   "metadata": {},
   "outputs": [
    {
     "data": {
      "text/plain": [
       "<__main__.DCV at 0x114477518>"
      ]
     },
     "execution_count": 8,
     "metadata": {},
     "output_type": "execute_result"
    }
   ],
   "source": [
    "cv = DCV()\n",
    "cv.to_sparse(sparse)"
   ]
  },
  {
   "cell_type": "code",
   "execution_count": 9,
   "metadata": {},
   "outputs": [
    {
     "data": {
      "text/plain": [
       "[3]"
      ]
     },
     "execution_count": 9,
     "metadata": {},
     "output_type": "execute_result"
    }
   ],
   "source": [
    "cv.sparse[1][1]"
   ]
  },
  {
   "cell_type": "code",
   "execution_count": 10,
   "metadata": {},
   "outputs": [],
   "source": [
    "cv.save_sparse('~/Desktop/sparse')"
   ]
  },
  {
   "cell_type": "code",
   "execution_count": 11,
   "metadata": {},
   "outputs": [
    {
     "data": {
      "text/plain": [
       "array([[2, 0, 0, ..., 0, 0, 0],\n",
       "       [5, 0, 0, ..., 0, 0, 0],\n",
       "       [3, 4, 0, ..., 0, 0, 0],\n",
       "       ...,\n",
       "       [0, 0, 0, ..., 0, 5, 1],\n",
       "       [0, 0, 0, ..., 0, 0, 3],\n",
       "       [0, 0, 0, ..., 0, 0, 5]])"
      ]
     },
     "execution_count": 11,
     "metadata": {},
     "output_type": "execute_result"
    }
   ],
   "source": [
    "cv.to_dense()"
   ]
  },
  {
   "cell_type": "code",
   "execution_count": 12,
   "metadata": {},
   "outputs": [
    {
     "data": {
      "text/plain": [
       "0"
      ]
     },
     "execution_count": 12,
     "metadata": {},
     "output_type": "execute_result"
    }
   ],
   "source": [
    "np.sum(sparse - cv.to_dense())"
   ]
  },
  {
   "cell_type": "code",
   "execution_count": 13,
   "metadata": {},
   "outputs": [
    {
     "data": {
      "text/plain": [
       "<__main__.DCV at 0x114477eb8>"
      ]
     },
     "execution_count": 13,
     "metadata": {},
     "output_type": "execute_result"
    }
   ],
   "source": [
    "cv = DCV()\n",
    "cv.load_sparse('~/Desktop/sparse')"
   ]
  },
  {
   "cell_type": "code",
   "execution_count": 14,
   "metadata": {},
   "outputs": [
    {
     "data": {
      "text/plain": [
       "array([[2, 0, 0, ..., 0, 0, 0],\n",
       "       [5, 0, 0, ..., 0, 0, 0],\n",
       "       [3, 4, 0, ..., 0, 0, 0],\n",
       "       ...,\n",
       "       [0, 0, 0, ..., 0, 5, 1],\n",
       "       [0, 0, 0, ..., 0, 0, 3],\n",
       "       [0, 0, 0, ..., 0, 0, 5]])"
      ]
     },
     "execution_count": 14,
     "metadata": {},
     "output_type": "execute_result"
    }
   ],
   "source": [
    "cv.to_dense()"
   ]
  },
  {
   "cell_type": "code",
   "execution_count": 15,
   "metadata": {},
   "outputs": [
    {
     "data": {
      "text/plain": [
       "0"
      ]
     },
     "execution_count": 15,
     "metadata": {},
     "output_type": "execute_result"
    }
   ],
   "source": [
    "np.sum(sparse - cv.to_dense())"
   ]
  },
  {
   "cell_type": "code",
   "execution_count": null,
   "metadata": {},
   "outputs": [],
   "source": []
  }
 ],
 "metadata": {
  "kernelspec": {
   "display_name": "Python 3",
   "language": "python",
   "name": "python3"
  },
  "language_info": {
   "codemirror_mode": {
    "name": "ipython",
    "version": 3
   },
   "file_extension": ".py",
   "mimetype": "text/x-python",
   "name": "python",
   "nbconvert_exporter": "python",
   "pygments_lexer": "ipython3",
   "version": "3.6.5"
  }
 },
 "nbformat": 4,
 "nbformat_minor": 2
}
